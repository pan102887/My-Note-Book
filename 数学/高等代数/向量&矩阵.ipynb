{
 "cells": [
  {
   "cell_type": "markdown",
   "id": "4d21e8ea",
   "metadata": {},
   "source": [
    "## 矩阵和向量的乘法\n",
    "\n",
    "- $m \\times n$矩阵作用在n纬向量$x$上，结果一个$m$纬向量$b = Ax$\n",
    "\n",
    "$$\n",
    "b_i = \\sum_{j=1}^{n} A_{ij} x_j, \\quad i=1,2,\\ldots,m\n",
    "$$\n",
    "\n",
    "- 矩阵和向量的乘法可以看作是矩阵的m个行向量与向量b的点积（内积）\n",
    "$$\n",
    "A = \n",
    "    \\begin{bmatrix}\n",
    "        a_{11} & a_{12} & \\cdots & a_{1n} \\\\ \n",
    "        a_{21} & a_{22} & \\cdots & a_{2n} \\\\ \n",
    "        \\vdots & \\vdots & \\ddots & \\vdots \\\\ \n",
    "        a_{m1} & a_{m2} & \\cdots & a_{mn}\n",
    "    \\end{bmatrix}, \\quad\n",
    "\n",
    "x = \\begin{bmatrix}\n",
    "        x_1 \\\\ \n",
    "        x_2 \\\\ \n",
    "        \\vdots \\\\ \n",
    "        x_n\n",
    "    \\end{bmatrix}\n",
    "$$\n",
    "\n",
    "$Ax$是A所有行分别和x的点积，结果是一个m维向量\n",
    "\n",
    "$$\n",
    "b = Ax = \n",
    "    \\begin{bmatrix} \n",
    "        (a_{11}, a_{12}, \\cdots, a_{1n}) \\cdot (x_1, x_2, \\cdots x_n) \\\\\n",
    "        (a_{21}, a_{22}, \\cdots, a_{2n}) \\cdot (x_1, x_2, \\cdots x_n) \\\\\n",
    "        \\vdots \\\\ \n",
    "        (a_{m1}, a_{m2}, \\cdots, a_{mn}) \\cdot (x_1, x_2, \\cdots x_n)\n",
    "    \\end{bmatrix}\n",
    "    \n",
    "    = \n",
    "    \n",
    "    \\begin{bmatrix} \n",
    "        \\sum_{j=1}^{n} a_{1j} x_j \\\\ \n",
    "        \\sum_{j=1}^{n} a_{2j} x_j \\\\ \n",
    "        \\vdots \\\\ \n",
    "        \\sum_{j=1}^{n} a_{mj} x_j\n",
    "    \\end{bmatrix}\n",
    "$$\n",
    "\n",
    "**numpy示例**\n"
   ]
  },
  {
   "cell_type": "code",
   "execution_count": 11,
   "id": "ecbcce40",
   "metadata": {},
   "outputs": [],
   "source": [
    "\n",
    "import numpy as np\n",
    "import print_util as pu\n",
    "\n",
    "\n",
    "\n",
    "A = np.array([[1, 2, 3], [4, 5, 6]])\n",
    "x = np.array([1, 0, -1])\n"
   ]
  },
  {
   "cell_type": "markdown",
   "id": "f11e21a4",
   "metadata": {},
   "source": [
    "## 线性方程组用矩阵表示\n",
    "\n",
    "- $m \\times n$ 矩阵A作用在$n$纬向量$x$上，结果是$m$纬向量$b = Ax$也可以看成是一个n元线性方程组\n",
    "$$\n",
    "b_i = \\sum_{j=1}^{n} A_{ij} x_j, \\quad i=1,2,\\ldots,m\n",
    "$$"
   ]
  },
  {
   "cell_type": "code",
   "execution_count": null,
   "id": "a12c1c5c",
   "metadata": {},
   "outputs": [],
   "source": []
  }
 ],
 "metadata": {
  "kernelspec": {
   "display_name": "Python 3",
   "language": "python",
   "name": "python3"
  },
  "language_info": {
   "codemirror_mode": {
    "name": "ipython",
    "version": 3
   },
   "file_extension": ".py",
   "mimetype": "text/x-python",
   "name": "python",
   "nbconvert_exporter": "python",
   "pygments_lexer": "ipython3",
   "version": "3.12.4"
  }
 },
 "nbformat": 4,
 "nbformat_minor": 5
}
