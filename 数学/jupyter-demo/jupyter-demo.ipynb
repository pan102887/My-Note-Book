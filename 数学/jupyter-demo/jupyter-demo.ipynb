{
 "cells": [
  {
   "cell_type": "markdown",
   "id": "a308dd08-1280-43ce-a5dc-e391483f6b1c",
   "metadata": {},
   "source": [
    "# Jupyter文档测试\n",
    "\n",
    "## 上面的是一个主标题，这里是一个副标题\n",
    "\n",
    "正文内容，这里是一些正文内容\n",
    "\n",
    "```java\n",
    "import java.lang.String;\n",
    "\n",
    "\n",
    "public class Demo {\n",
    "    public static void main(String args[]) {\n",
    "        System.out.println(\"Test\");\n",
    "    }\n",
    "}\n",
    "\n",
    "```"
   ]
  },
  {
   "cell_type": "code",
   "execution_count": null,
   "id": "c6841167-8135-45e4-9644-69108e12c42f",
   "metadata": {},
   "outputs": [],
   "source": []
  }
 ],
 "metadata": {
  "kernelspec": {
   "display_name": "Python 3 (ipykernel)",
   "language": "python",
   "name": "python3"
  },
  "language_info": {
   "codemirror_mode": {
    "name": "ipython",
    "version": 3
   },
   "file_extension": ".py",
   "mimetype": "text/x-python",
   "name": "python",
   "nbconvert_exporter": "python",
   "pygments_lexer": "ipython3",
   "version": "3.13.7"
  }
 },
 "nbformat": 4,
 "nbformat_minor": 5
}
